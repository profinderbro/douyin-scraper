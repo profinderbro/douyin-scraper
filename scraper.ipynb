{
  "metadata": {
    "kernelspec": {
      "name": "",
      "display_name": ""
    },
    "language_info": {
      "name": ""
    }
  },
  "nbformat_minor": 5,
  "nbformat": 4,
  "cells": [
    {
      "id": "8960db35-7a9f-43c0-b606-465a737d6af6",
      "cell_type": "code",
      "source": "#@title 📌 Video Downloader Instructions\n#@markdown 1. Create a file named `urls.txt` in this folder.<br>\n#@markdown 2. Paste all the video URLs into `urls.txt`, one URL per line.<br>\n#@markdown 3. Run this cell to download all videos with a progress bar and create a ZIP archive.<br>\n#@markdown 4. Click the button below to download the ZIP manually.\n\n# Folder name for downloads\nsave_folder_name = \"downloads\"  #@param [\"downloads\", \"videos\", \"output\"] {allow-input: true}\n\nimport requests\nfrom pathlib import Path\nfrom urllib.parse import urlparse, parse_qs\nimport shutil\nfrom google.colab import files\nfrom tqdm.notebook import tqdm\n\nsave_folder = Path(save_folder_name)\nsave_folder.mkdir(exist_ok=True)\n\n# Map common mime_type values to extensions\nmime_map = {\n    \"video_mp4\": \".mp4\",\n    \"video_webm\": \".webm\",\n    \"image_jpeg\": \".jpg\",\n    \"image_png\": \".png\"\n}\n\n# Read URLs from urls.txt\nurl_file = \"urls.txt\"\ntry:\n    with open(url_file, 'r') as f:\n        urls = [line.strip() for line in f if line.strip()]\nexcept FileNotFoundError:\n    print(\"❌ urls.txt not found! Please create the file and paste URLs in it.\")\n    urls = []\n\n# Download videos with progress bar\nfor idx, url in enumerate(tqdm(urls, desc=\"Downloading videos\", unit=\"file\")):\n    try:\n        # Detect mime_type from URL query\n        parsed_url = urlparse(url)\n        qs = parse_qs(parsed_url.query)\n        mime_type = qs.get(\"mime_type\", [\"\"])[0]\n        extension = mime_map.get(mime_type, \".bin\")\n\n        filename = save_folder / f\"file_{idx+1}{extension}\"\n\n        resp = requests.get(url, stream=True)\n        resp.raise_for_status()\n\n        with open(filename, 'wb') as out_file:\n            for chunk in resp.iter_content(chunk_size=1024*1024):\n                if chunk:\n                    out_file.write(chunk)\n\n    except Exception as e:\n        print(f\"❌ Failed to download {url}: {e}\")\n\n# Create ZIP archive of the folder\nzip_name = save_folder_name + \".zip\"\nshutil.make_archive(save_folder_name, 'zip', save_folder)\nprint(f\"\\n🎉 All files zipped into: {zip_name}\")\n\n# Download button\nfiles.download(zip_name)\n",
      "metadata": {
        "trusted": true
      },
      "outputs": [],
      "execution_count": null
    }
  ]
}